{
 "cells": [
  {
   "cell_type": "code",
   "execution_count": 14,
   "id": "48faad77",
   "metadata": {},
   "outputs": [],
   "source": [
    "import findspark\n",
    "findspark.init()\n",
    "import pyspark as ps\n",
    "import warnings\n",
    "from pyspark.sql import SQLContext\n",
    "from pyspark.ml.feature import HashingTF, IDF, Tokenizer\n",
    "from pyspark.ml.feature import StringIndexer\n",
    "from pyspark.ml import Pipeline\n",
    "from pyspark.ml.classification import LogisticRegression\n",
    "from pyspark.ml.feature import CountVectorizer\n",
    "from pyspark.ml.evaluation import BinaryClassificationEvaluator"
   ]
  },
  {
   "cell_type": "code",
   "execution_count": 15,
   "id": "6bfd4122",
   "metadata": {},
   "outputs": [
    {
     "name": "stdout",
     "output_type": "stream",
     "text": [
      "Just created a SparkContext\n"
     ]
    }
   ],
   "source": [
    "try:\n",
    "    sc = ps.SparkContext(\"local[*]\",'test')\n",
    "    sqlContext = SQLContext(sc)\n",
    "    print(\"Just created a SparkContext\")\n",
    "except ValueError:\n",
    "    warnings.warn(\"SparkContext already exists in this scope\")"
   ]
  },
  {
   "cell_type": "code",
   "execution_count": 16,
   "id": "1e515b97",
   "metadata": {},
   "outputs": [],
   "source": [
    "df = sqlContext.read.format('com.databricks.spark.csv').options(header='true', inferschema='true').load('data/cleanedReviews.csv')\n",
    "df = df.dropna()"
   ]
  },
  {
   "cell_type": "code",
   "execution_count": 5,
   "id": "fb196430",
   "metadata": {},
   "outputs": [],
   "source": [
    "(train_set, val_set) = df.randomSplit([0.9, 0.1], seed = 300)"
   ]
  },
  {
   "cell_type": "code",
   "execution_count": 6,
   "id": "c81d73cf",
   "metadata": {},
   "outputs": [],
   "source": [
    "def tf_idf(textCol,labelCol):\n",
    "    tokenizer = Tokenizer(inputCol=textCol, outputCol=\"words\")\n",
    "    hashtf = HashingTF(numFeatures=1000, inputCol=\"words\", outputCol='tf')\n",
    "    idf = IDF(inputCol='tf', outputCol=\"features\", minDocFreq=5)\n",
    "    label_stringIdx = StringIndexer(inputCol = labelCol, outputCol = \"label\")\n",
    "    lr = LogisticRegression(maxIter=100)\n",
    "    pipeline = Pipeline(stages=[tokenizer, hashtf, idf, label_stringIdx, lr])\n",
    "    return pipeline\n",
    "\n",
    "def cv_idf(textCol,labelCol):\n",
    "    tokenizer = Tokenizer(inputCol=textCol, outputCol=\"words\")\n",
    "    cv = CountVectorizer(vocabSize=1000, inputCol=\"words\", outputCol='cv')\n",
    "    idf = IDF(inputCol='cv', outputCol=\"features\", minDocFreq=5)\n",
    "    label_stringIdx = StringIndexer(inputCol = labelCol, outputCol = \"label\")\n",
    "    lr = LogisticRegression(maxIter=100)\n",
    "    pipeline = Pipeline(stages=[tokenizer, cv, idf, label_stringIdx, lr])\n",
    "    return pipeline"
   ]
  },
  {
   "cell_type": "code",
   "execution_count": 7,
   "id": "cca5098e",
   "metadata": {},
   "outputs": [
    {
     "name": "stdout",
     "output_type": "stream",
     "text": [
      "Wall time: 17 s\n"
     ]
    }
   ],
   "source": [
    "%%time\n",
    "pipelineFit = cv_idf(\"review\",\"sentiment\").fit(train_set)\n",
    "predictions = pipelineFit.transform(val_set)\n",
    "evaluator = BinaryClassificationEvaluator(rawPredictionCol=\"rawPrediction\")\n",
    "accuracy = predictions.filter(predictions.label == predictions.prediction).count() / float(val_set.count())\n",
    "roc_auc = evaluator.evaluate(predictions)"
   ]
  },
  {
   "cell_type": "code",
   "execution_count": 17,
   "id": "fc9107bb",
   "metadata": {},
   "outputs": [
    {
     "name": "stdout",
     "output_type": "stream",
     "text": [
      "+-------+-----+\n",
      "|   word|count|\n",
      "+-------+-----+\n",
      "|   film|49021|\n",
      "|   movi|43129|\n",
      "|    one|26958|\n",
      "|   like|19885|\n",
      "|   time|15480|\n",
      "|    see|14687|\n",
      "|   good|14573|\n",
      "|  stori|13654|\n",
      "|charact|13630|\n",
      "|   make|13167|\n",
      "|  great|12798|\n",
      "|    get|12577|\n",
      "|  watch|12507|\n",
      "|   love|12064|\n",
      "|   well|11309|\n",
      "|   show|10813|\n",
      "| realli|10676|\n",
      "|   also|10550|\n",
      "|  would|10368|\n",
      "|   play| 9840|\n",
      "+-------+-----+\n",
      "only showing top 20 rows\n",
      "\n"
     ]
    },
    {
     "data": {
      "text/plain": [
       "108517"
      ]
     },
     "execution_count": 17,
     "metadata": {},
     "output_type": "execute_result"
    }
   ],
   "source": [
    "import pyspark.sql.functions as f\n",
    "d=df.filter(f.col('sentiment')=='positive')\n",
    "plot = d.withColumn('word', f.explode(f.split(f.col('review'), ' ')))\\\n",
    "    .groupBy('word')\\\n",
    "    .count()\\\n",
    "    .sort('count', ascending=False)\n",
    "plot.show()\n",
    "plot.count()"
   ]
  },
  {
   "cell_type": "code",
   "execution_count": null,
   "id": "1114a9bf",
   "metadata": {},
   "outputs": [],
   "source": [
    "pandas_df = plot.toPandas().head(5)\n",
    "pandas_df.set_index('word', inplace=True)\n",
    "import matplotlib.pyplot as plt\n",
    "pandas_df.plot(kind='bar',figsize=(12,6));"
   ]
  },
  {
   "cell_type": "code",
   "execution_count": null,
   "id": "fa380e17",
   "metadata": {},
   "outputs": [],
   "source": [
    "df.withColumn('count', f.size(f.split(f.col('review'), ' '))).agg({\"count\": \"avg\"}).show()\n",
    "'''def get_keyval(row):\n",
    "    text=row.text\n",
    "    words=text.split(\" \")\n",
    "    return \n",
    "mapped_rdd = df.rdd.flatMap (lambda row: get_keyval (row))\n",
    "counts_rdd = mapped_rdd.reduceByKey (add)\n",
    "word_count = counts_rdd.collect ()'''"
   ]
  },
  {
   "cell_type": "code",
   "execution_count": 13,
   "id": "0b869132",
   "metadata": {},
   "outputs": [],
   "source": [
    "sc.stop()"
   ]
  },
  {
   "cell_type": "code",
   "execution_count": null,
   "id": "1332f3e4",
   "metadata": {},
   "outputs": [],
   "source": []
  }
 ],
 "metadata": {
  "kernelspec": {
   "display_name": "Python 3",
   "language": "python",
   "name": "python3"
  },
  "language_info": {
   "codemirror_mode": {
    "name": "ipython",
    "version": 3
   },
   "file_extension": ".py",
   "mimetype": "text/x-python",
   "name": "python",
   "nbconvert_exporter": "python",
   "pygments_lexer": "ipython3",
   "version": "3.8.6"
  }
 },
 "nbformat": 4,
 "nbformat_minor": 5
}
